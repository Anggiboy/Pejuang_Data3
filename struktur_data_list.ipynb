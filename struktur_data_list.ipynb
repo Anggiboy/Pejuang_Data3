{
  "nbformat": 4,
  "nbformat_minor": 0,
  "metadata": {
    "colab": {
      "name": "struktur data list.ipynb",
      "provenance": [],
      "authorship_tag": "ABX9TyOmXbAEKye/PzlteqFVlTCu",
      "include_colab_link": true
    },
    "kernelspec": {
      "name": "python3",
      "display_name": "Python 3"
    },
    "language_info": {
      "name": "python"
    }
  },
  "cells": [
    {
      "cell_type": "markdown",
      "metadata": {
        "id": "view-in-github",
        "colab_type": "text"
      },
      "source": [
        "<a href=\"https://colab.research.google.com/github/Anggiboy/Pejuang_Data3/blob/main/struktur_data_list.ipynb\" target=\"_parent\"><img src=\"https://colab.research.google.com/assets/colab-badge.svg\" alt=\"Open In Colab\"/></a>"
      ]
    },
    {
      "cell_type": "code",
      "metadata": {
        "colab": {
          "base_uri": "https://localhost:8080/"
        },
        "id": "ayvROt9NifCX",
        "outputId": "f9230a27-7a0e-4372-f916-1e6df8a6d794"
      },
      "source": [
        "#contoh list\n",
        "L1=[1,4,2,13]\n",
        "\n",
        "print(type(L1))"
      ],
      "execution_count": 1,
      "outputs": [
        {
          "output_type": "stream",
          "name": "stdout",
          "text": [
            "<class 'list'>\n"
          ]
        }
      ]
    },
    {
      "cell_type": "code",
      "metadata": {
        "colab": {
          "base_uri": "https://localhost:8080/"
        },
        "id": "5big3ibDir4y",
        "outputId": "964568bb-4676-4297-f77f-d23b8f935fd9"
      },
      "source": [
        "L2=[\"a\",\"python\",3]\n",
        "L2"
      ],
      "execution_count": 2,
      "outputs": [
        {
          "output_type": "execute_result",
          "data": {
            "text/plain": [
              "['a', 'python', 3]"
            ]
          },
          "metadata": {},
          "execution_count": 2
        }
      ]
    },
    {
      "cell_type": "code",
      "metadata": {
        "colab": {
          "base_uri": "https://localhost:8080/"
        },
        "id": "Y-YD1Qj0jgWm",
        "outputId": "f326150e-9590-4fca-eb11-b73bf4cf0973"
      },
      "source": [
        "print(L1)\n",
        "print(L2)"
      ],
      "execution_count": 3,
      "outputs": [
        {
          "output_type": "stream",
          "name": "stdout",
          "text": [
            "[1, 4, 2, 13]\n",
            "['a', 'python', 3]\n"
          ]
        }
      ]
    },
    {
      "cell_type": "code",
      "metadata": {
        "colab": {
          "base_uri": "https://localhost:8080/"
        },
        "id": "XC_NTgDCjlIJ",
        "outputId": "66703bcb-0e30-49fc-f86b-e03be33e63e4"
      },
      "source": [
        "# Latihan 1\n",
        "# Buatlah list kalian sendiri\n",
        "L3=[10,20,30,40,50]\n",
        "print(type(L3))"
      ],
      "execution_count": 4,
      "outputs": [
        {
          "output_type": "stream",
          "name": "stdout",
          "text": [
            "<class 'list'>\n"
          ]
        }
      ]
    },
    {
      "cell_type": "code",
      "metadata": {
        "colab": {
          "base_uri": "https://localhost:8080/"
        },
        "id": "bJ_rOLh-kTDl",
        "outputId": "7cf5e168-1af5-4e89-c397-e2a1c7cb5018"
      },
      "source": [
        "L4=[\"lee\",\"indo\",\"bwf\",7]\n",
        "L4\n",
        "\n",
        "print(L3)\n",
        "print(L4)"
      ],
      "execution_count": 7,
      "outputs": [
        {
          "output_type": "stream",
          "name": "stdout",
          "text": [
            "[10, 20, 30, 40, 50]\n",
            "['lee', 'indo', 'bwf', 7]\n"
          ]
        }
      ]
    },
    {
      "cell_type": "code",
      "metadata": {
        "colab": {
          "base_uri": "https://localhost:8080/"
        },
        "id": "OoUrHBnCkyfi",
        "outputId": "c98f5ab9-b93e-4a3a-e72c-20be195181fc"
      },
      "source": [
        "#sifat-sifat list\n",
        "\n",
        "#Terurut/Ordered\n",
        "print(\"Memanggil List L1 dengan indeks urutan:\",L1[0:3])\n",
        "\n",
        "#Bisa Diganti/Mutable\n",
        "L1[1]=2\n",
        "print(\"List L1 setelah diganti elemennya\",L1)\n",
        "\n",
        "L1=[1,\"dua\",True,2+3j]\n",
        "\n",
        "#Dapat Diindeks/Slicing\n",
        "print(\"Slicing List L1\",L1[3])\n",
        "\n",
        "#Dapat Diijinkan duplikasi\n",
        "L1 = [1,\"dua\",True,2+3j,2+3j]\n",
        "print(\"Duplikasi pada list L1:\",L1)"
      ],
      "execution_count": 8,
      "outputs": [
        {
          "output_type": "stream",
          "name": "stdout",
          "text": [
            "Memanggil List L1 dengan indeks urutan: [1, 4, 2]\n",
            "List L1 setelah diganti elemennya [1, 2, 2, 13]\n",
            "Slicing List L1 (2+3j)\n",
            "Duplikasi pada list L1: [1, 'dua', True, (2+3j), (2+3j)]\n"
          ]
        }
      ]
    },
    {
      "cell_type": "code",
      "metadata": {
        "colab": {
          "base_uri": "https://localhost:8080/"
        },
        "id": "z_2HBLA9k4hZ",
        "outputId": "3b7e6a7e-de33-4d15-a931-649daa41861d"
      },
      "source": [
        "# Latihan 2\n",
        "# Ganti elemen yang ada pada list yang kalian buat\n",
        "L3=[10,20,30,40,50]\n",
        "L3[1]=100\n",
        "print(\"List L3 setelah diganti elemennya\",L3)"
      ],
      "execution_count": 13,
      "outputs": [
        {
          "output_type": "stream",
          "name": "stdout",
          "text": [
            "List L3 setelah diganti elemennya [10, 100, 30, 40, 50]\n"
          ]
        }
      ]
    }
  ]
}