{
  "nbformat": 4,
  "nbformat_minor": 0,
  "metadata": {
    "colab": {
      "name": "struktur data tuple.ipynb",
      "provenance": [],
      "authorship_tag": "ABX9TyOWQWQ2Ndey5GudTmJ4i0eg",
      "include_colab_link": true
    },
    "kernelspec": {
      "name": "python3",
      "display_name": "Python 3"
    },
    "language_info": {
      "name": "python"
    }
  },
  "cells": [
    {
      "cell_type": "markdown",
      "metadata": {
        "id": "view-in-github",
        "colab_type": "text"
      },
      "source": [
        "<a href=\"https://colab.research.google.com/github/Anggiboy/Pejuang_Data3/blob/main/struktur_data_tuple.ipynb\" target=\"_parent\"><img src=\"https://colab.research.google.com/assets/colab-badge.svg\" alt=\"Open In Colab\"/></a>"
      ]
    },
    {
      "cell_type": "code",
      "metadata": {
        "colab": {
          "base_uri": "https://localhost:8080/"
        },
        "id": "h8Ulqkm4mQF3",
        "outputId": "a8091144-3307-4065-9ee0-d483a730e088"
      },
      "source": [
        "#Contoh tuple\n",
        "T1=(1,\"dua\",True,1+2j)\n",
        "print(\"ini adalah Tuple:\",T1)"
      ],
      "execution_count": 1,
      "outputs": [
        {
          "output_type": "stream",
          "name": "stdout",
          "text": [
            "ini adalah Tuple: (1, 'dua', True, (1+2j))\n"
          ]
        }
      ]
    },
    {
      "cell_type": "code",
      "metadata": {
        "colab": {
          "base_uri": "https://localhost:8080/"
        },
        "id": "JSzLDszRmR_X",
        "outputId": "e5e260cd-55c4-41cd-e86e-c9ddbf765f6b"
      },
      "source": [
        "#Menampilkan tipe struktur data\n",
        "type(T1)"
      ],
      "execution_count": 2,
      "outputs": [
        {
          "output_type": "execute_result",
          "data": {
            "text/plain": [
              "tuple"
            ]
          },
          "metadata": {},
          "execution_count": 2
        }
      ]
    },
    {
      "cell_type": "code",
      "metadata": {
        "colab": {
          "base_uri": "https://localhost:8080/"
        },
        "id": "I8WIJ-2HmVu6",
        "outputId": "dd33c7de-0b5b-4fef-ddc0-388157e592e6"
      },
      "source": [
        "# Latihan\n",
        "# Buatlah Tuplemu Sendiri\n",
        "T2=(20,\"Sembilan\",7+9j,True)\n",
        "print(\"ini adalah tuple:\",T2)"
      ],
      "execution_count": 3,
      "outputs": [
        {
          "output_type": "stream",
          "name": "stdout",
          "text": [
            "ini adalah tuple: (20, 'Sembilan', (7+9j), True)\n"
          ]
        }
      ]
    },
    {
      "cell_type": "code",
      "metadata": {
        "colab": {
          "base_uri": "https://localhost:8080/"
        },
        "id": "PxO-9ZginUPk",
        "outputId": "3cfec90b-5994-47ae-ad75-69966b5fd5a7"
      },
      "source": [
        "#Terurut/Ordered\n",
        "T1[0:3]"
      ],
      "execution_count": 5,
      "outputs": [
        {
          "output_type": "execute_result",
          "data": {
            "text/plain": [
              "(1, 'dua', True)"
            ]
          },
          "metadata": {},
          "execution_count": 5
        }
      ]
    },
    {
      "cell_type": "code",
      "metadata": {
        "colab": {
          "base_uri": "https://localhost:8080/",
          "height": 183
        },
        "id": "H51zYqEvnYnu",
        "outputId": "67844e0f-31ea-4de6-8f71-1f289b0be4f6"
      },
      "source": [
        "#Tidak Bisa Diganti/Mutable\n",
        "T1[2]=\"Manusia\""
      ],
      "execution_count": 6,
      "outputs": [
        {
          "output_type": "error",
          "ename": "TypeError",
          "evalue": "ignored",
          "traceback": [
            "\u001b[0;31m---------------------------------------------------------------------------\u001b[0m",
            "\u001b[0;31mTypeError\u001b[0m                                 Traceback (most recent call last)",
            "\u001b[0;32m<ipython-input-6-569a99971893>\u001b[0m in \u001b[0;36m<module>\u001b[0;34m()\u001b[0m\n\u001b[1;32m      1\u001b[0m \u001b[0;31m#Tidak Bisa Diganti/Mutable\u001b[0m\u001b[0;34m\u001b[0m\u001b[0;34m\u001b[0m\u001b[0;34m\u001b[0m\u001b[0m\n\u001b[0;32m----> 2\u001b[0;31m \u001b[0mT1\u001b[0m\u001b[0;34m[\u001b[0m\u001b[0;36m2\u001b[0m\u001b[0;34m]\u001b[0m\u001b[0;34m=\u001b[0m\u001b[0;34m\"Manusia\"\u001b[0m\u001b[0;34m\u001b[0m\u001b[0;34m\u001b[0m\u001b[0m\n\u001b[0m",
            "\u001b[0;31mTypeError\u001b[0m: 'tuple' object does not support item assignment"
          ]
        }
      ]
    },
    {
      "cell_type": "code",
      "metadata": {
        "colab": {
          "base_uri": "https://localhost:8080/"
        },
        "id": "8jIsoNIQnewj",
        "outputId": "8e47a283-745b-4b60-9d48-f766e319aea1"
      },
      "source": [
        "#Dapat Diindeks/Slicing\n",
        "print(\"Elemen kedua dari tuple T1\",T1[1])"
      ],
      "execution_count": 7,
      "outputs": [
        {
          "output_type": "stream",
          "name": "stdout",
          "text": [
            "Elemen kedua dari tuple T1 dua\n"
          ]
        }
      ]
    },
    {
      "cell_type": "code",
      "metadata": {
        "colab": {
          "base_uri": "https://localhost:8080/"
        },
        "id": "1xS08Ms3njUs",
        "outputId": "1b36e4aa-2ebc-4cb6-9044-5f02452e6546"
      },
      "source": [
        "#Dapat Diijinkan duplikasi\n",
        "T2 = (3,2.4,True,2.4)\n",
        "T2"
      ],
      "execution_count": 8,
      "outputs": [
        {
          "output_type": "execute_result",
          "data": {
            "text/plain": [
              "(3, 2.4, True, 2.4)"
            ]
          },
          "metadata": {},
          "execution_count": 8
        }
      ]
    },
    {
      "cell_type": "code",
      "metadata": {
        "colab": {
          "base_uri": "https://localhost:8080/"
        },
        "id": "gyPJv-H_nn_8",
        "outputId": "c1592e92-6357-458e-e16e-bb33bedd422e"
      },
      "source": [
        "#Menggabungkan tuple\n",
        "T3=T1+T2\n",
        "T3"
      ],
      "execution_count": 9,
      "outputs": [
        {
          "output_type": "execute_result",
          "data": {
            "text/plain": [
              "(1, 'dua', True, (1+2j), 3, 2.4, True, 2.4)"
            ]
          },
          "metadata": {},
          "execution_count": 9
        }
      ]
    },
    {
      "cell_type": "code",
      "metadata": {
        "colab": {
          "base_uri": "https://localhost:8080/"
        },
        "id": "c5DtN_AznrpQ",
        "outputId": "3c75ee04-317d-4abd-a186-1dd6f874796e"
      },
      "source": [
        "#Latihan 2\n",
        "#Buatlah tuple kedua lalu gabungkan 2 tuple yang telah kamu buat\n",
        "T4=(10,\"Sembilan\",9+9j,True)\n",
        "T5=(35.9,\"Tujuh\",False)\n",
        "T6=T4+T5\n",
        "T6"
      ],
      "execution_count": 10,
      "outputs": [
        {
          "output_type": "execute_result",
          "data": {
            "text/plain": [
              "(10, 'Sembilan', (9+9j), True, 35.9, 'Tujuh', False)"
            ]
          },
          "metadata": {},
          "execution_count": 10
        }
      ]
    }
  ]
}