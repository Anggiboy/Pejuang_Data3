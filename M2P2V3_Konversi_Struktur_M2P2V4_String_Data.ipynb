{
  "nbformat": 4,
  "nbformat_minor": 0,
  "metadata": {
    "kernelspec": {
      "display_name": "Python 3",
      "language": "python",
      "name": "python3"
    },
    "language_info": {
      "codemirror_mode": {
        "name": "ipython",
        "version": 3
      },
      "file_extension": ".py",
      "mimetype": "text/x-python",
      "name": "python",
      "nbconvert_exporter": "python",
      "pygments_lexer": "ipython3",
      "version": "3.7.3"
    },
    "colab": {
      "name": "M2P2V3_Konversi Struktur. M2P2V4_String Data.ipynb",
      "provenance": [],
      "collapsed_sections": [],
      "toc_visible": true,
      "include_colab_link": true
    }
  },
  "cells": [
    {
      "cell_type": "markdown",
      "metadata": {
        "id": "view-in-github",
        "colab_type": "text"
      },
      "source": [
        "<a href=\"https://colab.research.google.com/github/Anggiboy/Pejuang_Data3/blob/main/M2P2V3_Konversi_Struktur_M2P2V4_String_Data.ipynb\" target=\"_parent\"><img src=\"https://colab.research.google.com/assets/colab-badge.svg\" alt=\"Open In Colab\"/></a>"
      ]
    },
    {
      "cell_type": "markdown",
      "metadata": {
        "id": "3xJQLaDgZr7I"
      },
      "source": [
        "# Konversi Struktur Data\n"
      ]
    },
    {
      "cell_type": "markdown",
      "metadata": {
        "id": "vsFisFtQWA1q"
      },
      "source": [
        "Mengkonversi tipe data list:"
      ]
    },
    {
      "cell_type": "code",
      "metadata": {
        "id": "CTfx2lUoWA1q"
      },
      "source": [
        "#membuat 2 list\n",
        "L1 = [1, 2, 3, 4] \n",
        "L2 = [5, 6, 7, 8]"
      ],
      "execution_count": 9,
      "outputs": []
    },
    {
      "cell_type": "code",
      "metadata": {
        "colab": {
          "base_uri": "https://localhost:8080/"
        },
        "id": "s9nUYKdfWA1s",
        "outputId": "acc4130d-b7d8-44c7-fcb6-3eb082081b37"
      },
      "source": [
        " # Mengkonversi struktur data list\n",
        "k_tuple = tuple(L1) \n",
        "k_set = set(L2) \n",
        "k_dict = dict(zip(L1, L2)) \n",
        "# Melihat data yang telah dikonversi \n",
        "print(k_tuple) \n",
        "print(k_set) \n",
        "print(k_dict)"
      ],
      "execution_count": 10,
      "outputs": [
        {
          "output_type": "stream",
          "name": "stdout",
          "text": [
            "(1, 2, 3, 4)\n",
            "{8, 5, 6, 7}\n",
            "{1: 5, 2: 6, 3: 7, 4: 8}\n"
          ]
        }
      ]
    },
    {
      "cell_type": "markdown",
      "metadata": {
        "id": "mCkcfKBQWA1u"
      },
      "source": [
        "Mengkonversi tipe data tuple:"
      ]
    },
    {
      "cell_type": "code",
      "metadata": {
        "colab": {
          "base_uri": "https://localhost:8080/"
        },
        "id": "RwehG6W8WA1v",
        "outputId": "8bbf9e2b-0ab1-443c-b9eb-5a5a02c49486"
      },
      "source": [
        "# Membuat dua tuple\n",
        "T1 = (1, 2, 3, 4) \n",
        "T2 = (5, 6, 7, 8)\n",
        "# Mengkonversi struktur data tuple \n",
        "k_list = list(T1) \n",
        "k_set = set(T2) \n",
        "k_dic = dict(zip(T1, T2)) \n",
        "# Melihat data yang telah dikonversi \n",
        "print(k_list) \n",
        "print(k_set) \n",
        "print(k_dict)"
      ],
      "execution_count": 11,
      "outputs": [
        {
          "output_type": "stream",
          "name": "stdout",
          "text": [
            "[1, 2, 3, 4]\n",
            "{8, 5, 6, 7}\n",
            "{1: 5, 2: 6, 3: 7, 4: 8}\n"
          ]
        }
      ]
    },
    {
      "cell_type": "markdown",
      "metadata": {
        "id": "x2_zHDxYWA1x"
      },
      "source": [
        "Mengkonversi tipe data set:"
      ]
    },
    {
      "cell_type": "code",
      "metadata": {
        "id": "rvIyh-HAWA1y"
      },
      "source": [
        "# Membuat dua set\n",
        "S1 = {1, 2, 3, 4} \n",
        "S2 = {5, 6, 7, 8}"
      ],
      "execution_count": 12,
      "outputs": []
    },
    {
      "cell_type": "code",
      "metadata": {
        "colab": {
          "base_uri": "https://localhost:8080/"
        },
        "id": "i1u5GrbRWA1z",
        "outputId": "28fbffd9-752f-43b6-bb18-28fbfe26e706"
      },
      "source": [
        "#Mengkonversi struktur data set\n",
        "k_list=list(S1)\n",
        "k_tuple=tuple(S2)\n",
        "k_dict=dict(zip(S1,S2))\n",
        "\n",
        "#Melihat data yang telah dikonversi\n",
        "print(k_list)\n",
        "print(k_tuple)\n",
        "print(k_dict)"
      ],
      "execution_count": 13,
      "outputs": [
        {
          "output_type": "stream",
          "name": "stdout",
          "text": [
            "[1, 2, 3, 4]\n",
            "(8, 5, 6, 7)\n",
            "{1: 8, 2: 5, 3: 6, 4: 7}\n"
          ]
        }
      ]
    },
    {
      "cell_type": "markdown",
      "metadata": {
        "id": "ZmZea9laWA1z"
      },
      "source": [
        "Mengkonversi tipe data list"
      ]
    },
    {
      "cell_type": "code",
      "metadata": {
        "id": "f9Ss9-AMWA10"
      },
      "source": [
        "#membuat dictionary\n",
        "D={\n",
        "    \"nama\":\"Andi\",\n",
        "    \"alamat\":\"Yogyakarta\",\n",
        "    \"umur\":20\n",
        "}"
      ],
      "execution_count": 14,
      "outputs": []
    },
    {
      "cell_type": "code",
      "metadata": {
        "colab": {
          "base_uri": "https://localhost:8080/"
        },
        "id": "3Wtj5vZ_WA10",
        "outputId": "ac534e36-762f-4533-feed-58b64d06130f"
      },
      "source": [
        "#Mengkonversi struktur data dictionary dari key dan value nya\n",
        "k_list=list(D.keys())\n",
        "k_tuple=tuple(D.values())\n",
        "k_set=set(D.keys())\n",
        "\n",
        "#Melihat data yang telah dikonversi\n",
        "print(k_list)\n",
        "print(k_tuple)\n",
        "print(k_set)"
      ],
      "execution_count": 15,
      "outputs": [
        {
          "output_type": "stream",
          "name": "stdout",
          "text": [
            "['nama', 'alamat', 'umur']\n",
            "('Andi', 'Yogyakarta', 20)\n",
            "{'nama', 'alamat', 'umur'}\n"
          ]
        }
      ]
    },
    {
      "cell_type": "markdown",
      "metadata": {
        "id": "kZgJa1WhWA11"
      },
      "source": [
        "Latihan"
      ]
    },
    {
      "cell_type": "code",
      "metadata": {
        "colab": {
          "base_uri": "https://localhost:8080/"
        },
        "id": "NiD_wSiQWA11",
        "outputId": "867b236f-38f1-4ba2-d58c-58f7f58937d6"
      },
      "source": [
        "#lakukan konversi struktur data yang kalian buat pada notebook-notebook sebelumnya \n",
        "#menjadi list,tuple, set, dan dictionary (masing-masing satu)\n",
        "\n",
        "# Mengkonversi struktur data list\n",
        "L2=[\"a\",\"anggi\",100]\n",
        "L3=[20,40,60,80,100]\n",
        "k_tuple = tuple(L2) \n",
        "k_set = set(L3) \n",
        "k_dict = dict(zip(L2, L3)) \n",
        "\n",
        "# Melihat data yang telah dikonversi \n",
        "print(k_tuple) \n",
        "print(k_set) \n",
        "print(k_dict)"
      ],
      "execution_count": 16,
      "outputs": [
        {
          "output_type": "stream",
          "name": "stdout",
          "text": [
            "('a', 'anggi', 100)\n",
            "{100, 40, 80, 20, 60}\n",
            "{'a': 20, 'anggi': 40, 100: 60}\n"
          ]
        }
      ]
    },
    {
      "cell_type": "code",
      "metadata": {
        "colab": {
          "base_uri": "https://localhost:8080/"
        },
        "id": "D4GV05viWA12",
        "outputId": "1de58a30-1ac5-4660-e245-c1f74c4717c9"
      },
      "source": [
        "# Membuat dua tuple\n",
        "T4=(20,\"Seratus\",3+3j,True)\n",
        "T5=(7.5,\"lima puluh\",False)\n",
        "# Mengkonversi struktur data tuple \n",
        "k_list = list(T4) \n",
        "k_set = set(T5) \n",
        "k_dic = dict(zip(T4, T5)) \n",
        "# Melihat data yang telah dikonversi \n",
        "print(k_list) \n",
        "print(k_set) \n",
        "print(k_dict)"
      ],
      "execution_count": 17,
      "outputs": [
        {
          "output_type": "stream",
          "name": "stdout",
          "text": [
            "[20, 'Seratus', (3+3j), True]\n",
            "{False, 'lima puluh', 7.5}\n",
            "{'a': 20, 'anggi': 40, 100: 60}\n"
          ]
        }
      ]
    },
    {
      "cell_type": "code",
      "metadata": {
        "colab": {
          "base_uri": "https://localhost:8080/"
        },
        "id": "pVne6GVkWA12",
        "outputId": "a8d5da5c-60b3-453a-a727-a93284c581f1"
      },
      "source": [
        "# Membuat dua set\n",
        "S1 = {20, 30, 10, 90} \n",
        "S2 = {20,\"lima puluh\",True,False,\"lima puluh\",2+3j,False}\n",
        "\n",
        "#Mengkonversi struktur data set\n",
        "k_list=list(S1)\n",
        "k_tuple=tuple(S2)\n",
        "k_dict=dict(zip(S1,S2))\n",
        "\n",
        "#Melihat data yang telah dikonversi\n",
        "print(k_list)\n",
        "print(k_tuple)\n",
        "print(k_dict)"
      ],
      "execution_count": 18,
      "outputs": [
        {
          "output_type": "stream",
          "name": "stdout",
          "text": [
            "[10, 20, 90, 30]\n",
            "(False, True, 'lima puluh', (2+3j), 20)\n",
            "{10: False, 20: True, 90: 'lima puluh', 30: (2+3j)}\n"
          ]
        }
      ]
    },
    {
      "cell_type": "code",
      "metadata": {
        "colab": {
          "base_uri": "https://localhost:8080/"
        },
        "id": "Z0ZTVd9tWA13",
        "outputId": "6e38e47e-7715-491a-971a-4c58c6c06ad3"
      },
      "source": [
        "#membuat dictionary\n",
        "D={4:'value','key':20}\n",
        "#Mengkonversi struktur data dictionary dari key dan value nya\n",
        "k_list=list(D.keys())\n",
        "k_tuple=tuple(D.values())\n",
        "k_set=set(D.keys())\n",
        "\n",
        "#Melihat data yang telah dikonversi\n",
        "print(k_list)\n",
        "print(k_tuple)\n",
        "print(k_set)"
      ],
      "execution_count": 19,
      "outputs": [
        {
          "output_type": "stream",
          "name": "stdout",
          "text": [
            "[4, 'key']\n",
            "('value', 20)\n",
            "{4, 'key'}\n"
          ]
        }
      ]
    },
    {
      "cell_type": "markdown",
      "metadata": {
        "id": "hhLK1VZeZ09Y"
      },
      "source": [
        ""
      ]
    },
    {
      "cell_type": "markdown",
      "metadata": {
        "id": "hgYjcI-6Z1mY"
      },
      "source": [
        "#  Data String"
      ]
    },
    {
      "cell_type": "code",
      "metadata": {
        "colab": {
          "base_uri": "https://localhost:8080/"
        },
        "id": "tHy3FC1YZn4E",
        "outputId": "27888451-7215-46d0-ae7b-93204268b701"
      },
      "source": [
        "#Menampilkan string dengan fungsi print()\n",
        "print(\"Hello World!\")"
      ],
      "execution_count": 20,
      "outputs": [
        {
          "output_type": "stream",
          "name": "stdout",
          "text": [
            "Hello World!\n"
          ]
        }
      ]
    },
    {
      "cell_type": "code",
      "metadata": {
        "colab": {
          "base_uri": "https://localhost:8080/"
        },
        "id": "M0nMKuINaAzx",
        "outputId": "8b5cb45c-5cb5-4e3c-9a4a-c5c417809cc4"
      },
      "source": [
        "#Membuat variabel bertipe string\n",
        "A=\"Belajar struktur data string\"\n",
        "print(A)"
      ],
      "execution_count": 21,
      "outputs": [
        {
          "output_type": "stream",
          "name": "stdout",
          "text": [
            "Belajar struktur data string\n"
          ]
        }
      ]
    },
    {
      "cell_type": "code",
      "metadata": {
        "colab": {
          "base_uri": "https://localhost:8080/"
        },
        "id": "osaSTfzJaDyU",
        "outputId": "cbf219f6-c5da-44cb-9f04-4de2b63e9f5c"
      },
      "source": [
        "# Membuat variabel string multi-line dengan 3 tanda petik\n",
        "B = \"\"\"Belajar Python\n",
        "Pejuang data 3.0\n",
        "PSDS\n",
        "String\"\"\"\n",
        "print(B)"
      ],
      "execution_count": 22,
      "outputs": [
        {
          "output_type": "stream",
          "name": "stdout",
          "text": [
            "Belajar Python\n",
            "Pejuang data 3.0\n",
            "PSDS\n",
            "String\n"
          ]
        }
      ]
    },
    {
      "cell_type": "code",
      "metadata": {
        "colab": {
          "base_uri": "https://localhost:8080/"
        },
        "id": "_Ua-uTc7aHzL",
        "outputId": "edf2af3d-db55-4cb0-c24f-913f7868adc7"
      },
      "source": [
        "#Menampilkan karakter tertentu dalam string\n",
        "print(A[2])"
      ],
      "execution_count": 23,
      "outputs": [
        {
          "output_type": "stream",
          "name": "stdout",
          "text": [
            "l\n"
          ]
        }
      ]
    },
    {
      "cell_type": "code",
      "metadata": {
        "colab": {
          "base_uri": "https://localhost:8080/"
        },
        "id": "DCK5jvucaLPP",
        "outputId": "d0f64579-b244-4613-c04f-b425690b9ede"
      },
      "source": [
        "#Slicing pada string\n",
        "A=\"Belajar struktur data string\"\n",
        "print(A[:5])\n",
        "print(A[3:])\n",
        "print(A[-5:])\n",
        "print(A[4:9])"
      ],
      "execution_count": 24,
      "outputs": [
        {
          "output_type": "stream",
          "name": "stdout",
          "text": [
            "Belaj\n",
            "ajar struktur data string\n",
            "tring\n",
            "jar s\n"
          ]
        }
      ]
    },
    {
      "cell_type": "code",
      "metadata": {
        "colab": {
          "base_uri": "https://localhost:8080/"
        },
        "id": "tW_xF63caZpg",
        "outputId": "6e9cc7c6-c630-4f8b-f54b-4c365314ca12"
      },
      "source": [
        "# Buatlah variabel string lalu lakukan slicing dengan menghilangkan karakter pertama dan terakhir\n",
        "D=\"Anggiboy mengendarai motor\"\n",
        "print(D[1:25])"
      ],
      "execution_count": 27,
      "outputs": [
        {
          "output_type": "stream",
          "name": "stdout",
          "text": [
            "nggiboy mengendarai moto\n"
          ]
        }
      ]
    },
    {
      "cell_type": "markdown",
      "metadata": {
        "id": "-UKQUHAxa4f_"
      },
      "source": [
        "Modifikasi String\n"
      ]
    },
    {
      "cell_type": "code",
      "metadata": {
        "colab": {
          "base_uri": "https://localhost:8080/",
          "height": 35
        },
        "id": "9ku40E-Pa8A8",
        "outputId": "b3f4b527-8f91-4cc7-b790-2b4f75a85545"
      },
      "source": [
        "A=\"anggiboy membeli ninja\"\n",
        "#upper()\n",
        "A.upper()"
      ],
      "execution_count": 28,
      "outputs": [
        {
          "output_type": "execute_result",
          "data": {
            "application/vnd.google.colaboratory.intrinsic+json": {
              "type": "string"
            },
            "text/plain": [
              "'ANGGIBOY MEMBELI NINJA'"
            ]
          },
          "metadata": {},
          "execution_count": 28
        }
      ]
    },
    {
      "cell_type": "code",
      "metadata": {
        "colab": {
          "base_uri": "https://localhost:8080/",
          "height": 35
        },
        "id": "4sN6PacnbLIP",
        "outputId": "62cdeda7-4384-4ce8-9274-9b8e6206a375"
      },
      "source": [
        "#lower()\n",
        "A.lower()"
      ],
      "execution_count": 29,
      "outputs": [
        {
          "output_type": "execute_result",
          "data": {
            "application/vnd.google.colaboratory.intrinsic+json": {
              "type": "string"
            },
            "text/plain": [
              "'anggiboy membeli ninja'"
            ]
          },
          "metadata": {},
          "execution_count": 29
        }
      ]
    },
    {
      "cell_type": "code",
      "metadata": {
        "colab": {
          "base_uri": "https://localhost:8080/",
          "height": 35
        },
        "id": "lBVg0er5bPDe",
        "outputId": "a6ff72af-63b9-4a34-9123-c5a8f568ff45"
      },
      "source": [
        "#strip()\n",
        "A.strip()"
      ],
      "execution_count": 30,
      "outputs": [
        {
          "output_type": "execute_result",
          "data": {
            "application/vnd.google.colaboratory.intrinsic+json": {
              "type": "string"
            },
            "text/plain": [
              "'anggiboy membeli ninja'"
            ]
          },
          "metadata": {},
          "execution_count": 30
        }
      ]
    },
    {
      "cell_type": "code",
      "metadata": {
        "colab": {
          "base_uri": "https://localhost:8080/",
          "height": 35
        },
        "id": "N-uI7_1AbYdm",
        "outputId": "edc50c8b-2ccc-457f-aab1-51bbe9f942b0"
      },
      "source": [
        "#replace()\n",
        "A.replace('l','c')"
      ],
      "execution_count": 31,
      "outputs": [
        {
          "output_type": "execute_result",
          "data": {
            "application/vnd.google.colaboratory.intrinsic+json": {
              "type": "string"
            },
            "text/plain": [
              "'anggiboy membeci ninja'"
            ]
          },
          "metadata": {},
          "execution_count": 31
        }
      ]
    },
    {
      "cell_type": "code",
      "metadata": {
        "colab": {
          "base_uri": "https://localhost:8080/"
        },
        "id": "k2Zj26ImbjFl",
        "outputId": "bab819f9-c34b-4470-afec-46e6975998e1"
      },
      "source": [
        "#split()\n",
        "A.split()"
      ],
      "execution_count": 32,
      "outputs": [
        {
          "output_type": "execute_result",
          "data": {
            "text/plain": [
              "['anggiboy', 'membeli', 'ninja']"
            ]
          },
          "metadata": {},
          "execution_count": 32
        }
      ]
    },
    {
      "cell_type": "markdown",
      "metadata": {
        "id": "RhNDamOBbpHn"
      },
      "source": [
        "Menggabungkan String"
      ]
    },
    {
      "cell_type": "code",
      "metadata": {
        "colab": {
          "base_uri": "https://localhost:8080/",
          "height": 35
        },
        "id": "eOBT8sqgbp4c",
        "outputId": "2186e54b-0385-40a7-961d-d4e4699dad14"
      },
      "source": [
        "A=\"Belajar struktur data string\"\n",
        "B=\"Pejuang Data 3.0\"\n",
        "A + \" \" + B"
      ],
      "execution_count": 33,
      "outputs": [
        {
          "output_type": "execute_result",
          "data": {
            "application/vnd.google.colaboratory.intrinsic+json": {
              "type": "string"
            },
            "text/plain": [
              "'Belajar struktur data string Pejuang Data 3.0'"
            ]
          },
          "metadata": {},
          "execution_count": 33
        }
      ]
    },
    {
      "cell_type": "markdown",
      "metadata": {
        "id": "L476yJZwb2ob"
      },
      "source": [
        "Latihan 2\n"
      ]
    },
    {
      "cell_type": "code",
      "metadata": {
        "colab": {
          "base_uri": "https://localhost:8080/",
          "height": 35
        },
        "id": "DnSO9MRRb4tC",
        "outputId": "83af5256-a058-42ea-dad0-54f421ec6471"
      },
      "source": [
        "# Ganti semua huruf vokal menjadi \"i\" pada string yang telah kalian buat pada Latihan 1\n",
        "D=\"Anggiboy mengendarai motor\"\n",
        "J=D[0:6]\n",
        "K= J.replace('A','i')\n",
        "Z=D[6:8]\n",
        "X= Z.replace('o','i')\n",
        "E= D[9:20]\n",
        "F= E.replace('e','i')\n",
        "G= D[21:26]\n",
        "H=G.replace('o','i')\n",
        "K+ X + \" \" + F + \" \" + H "
      ],
      "execution_count": 43,
      "outputs": [
        {
          "output_type": "execute_result",
          "data": {
            "application/vnd.google.colaboratory.intrinsic+json": {
              "type": "string"
            },
            "text/plain": [
              "'inggibiy mingindarai mitir'"
            ]
          },
          "metadata": {},
          "execution_count": 43
        }
      ]
    }
  ]
}