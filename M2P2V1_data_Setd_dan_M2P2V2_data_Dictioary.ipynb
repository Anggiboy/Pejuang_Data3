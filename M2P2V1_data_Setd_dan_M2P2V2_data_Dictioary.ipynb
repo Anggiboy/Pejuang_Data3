{
  "nbformat": 4,
  "nbformat_minor": 0,
  "metadata": {
    "colab": {
      "name": "M2P2V1_data_Setd dan  M2P2V2_data_Dictioary.ipynb",
      "provenance": [],
      "collapsed_sections": [],
      "authorship_tag": "ABX9TyMfaUMlJh9khiQZiHuxykt3",
      "include_colab_link": true
    },
    "kernelspec": {
      "name": "python3",
      "display_name": "Python 3"
    },
    "language_info": {
      "name": "python"
    }
  },
  "cells": [
    {
      "cell_type": "markdown",
      "metadata": {
        "id": "view-in-github",
        "colab_type": "text"
      },
      "source": [
        "<a href=\"https://colab.research.google.com/github/Anggiboy/Pejuang_Data3/blob/main/M2P2V1_data_Setd_dan_M2P2V2_data_Dictioary.ipynb\" target=\"_parent\"><img src=\"https://colab.research.google.com/assets/colab-badge.svg\" alt=\"Open In Colab\"/></a>"
      ]
    },
    {
      "cell_type": "markdown",
      "metadata": {
        "id": "UkUARqEjgt88"
      },
      "source": [
        "# Set"
      ]
    },
    {
      "cell_type": "markdown",
      "metadata": {
        "id": "2l_6PZJdDEeA"
      },
      "source": [
        "Set adalah kumpulan item bersifat unik dan tanpa urutan (unordered collection). Didefinisikan dengan kurawal dan elemennya dipisahkan dengan koma. Pada Set kita dapat melakukan union dan intersection, sekaligus otomatis melakukan penghapusan data duplikat"
      ]
    },
    {
      "cell_type": "code",
      "metadata": {
        "colab": {
          "base_uri": "https://localhost:8080/"
        },
        "id": "52AjrsEXDGQk",
        "outputId": "db847c80-8ac2-49a4-d14c-2bf643ca80ab"
      },
      "source": [
        "#Contoh set\n",
        "S1={1, \"dua\", True, 2+3j}\n",
        "print (type(S1))"
      ],
      "execution_count": null,
      "outputs": [
        {
          "output_type": "stream",
          "name": "stdout",
          "text": [
            "<class 'set'>\n"
          ]
        }
      ]
    },
    {
      "cell_type": "code",
      "metadata": {
        "colab": {
          "base_uri": "https://localhost:8080/",
          "height": 201
        },
        "id": "hMQJJra_DO8l",
        "outputId": "753051df-4c26-4d88-f2f1-92c2cef69a7f"
      },
      "source": [
        "#sifat sifat set\n",
        "\n",
        "#Tidak terurut/Unordered\n",
        "print(\"memanggil Set S1 dengan indeks urutan:\", S1[0:3])"
      ],
      "execution_count": null,
      "outputs": [
        {
          "output_type": "error",
          "ename": "TypeError",
          "evalue": "ignored",
          "traceback": [
            "\u001b[0;31m---------------------------------------------------------------------------\u001b[0m",
            "\u001b[0;31mTypeError\u001b[0m                                 Traceback (most recent call last)",
            "\u001b[0;32m<ipython-input-4-743a5928e609>\u001b[0m in \u001b[0;36m<module>\u001b[0;34m()\u001b[0m\n\u001b[1;32m      2\u001b[0m \u001b[0;34m\u001b[0m\u001b[0m\n\u001b[1;32m      3\u001b[0m \u001b[0;31m#Tidak terurut/Unordered\u001b[0m\u001b[0;34m\u001b[0m\u001b[0;34m\u001b[0m\u001b[0;34m\u001b[0m\u001b[0m\n\u001b[0;32m----> 4\u001b[0;31m \u001b[0mprint\u001b[0m\u001b[0;34m(\u001b[0m\u001b[0;34m\"memanggil Set S1 dengan indeks urutan:\"\u001b[0m\u001b[0;34m,\u001b[0m \u001b[0mS1\u001b[0m\u001b[0;34m[\u001b[0m\u001b[0;36m0\u001b[0m\u001b[0;34m:\u001b[0m\u001b[0;36m3\u001b[0m\u001b[0;34m]\u001b[0m\u001b[0;34m)\u001b[0m\u001b[0;34m\u001b[0m\u001b[0;34m\u001b[0m\u001b[0m\n\u001b[0m",
            "\u001b[0;31mTypeError\u001b[0m: 'set' object is not subscriptable"
          ]
        }
      ]
    },
    {
      "cell_type": "code",
      "metadata": {
        "colab": {
          "base_uri": "https://localhost:8080/",
          "height": 201
        },
        "id": "IQM_cuZ7LyyF",
        "outputId": "9f545e44-670b-423f-dad7-bcd8c61efe9e"
      },
      "source": [
        "#tidak  bisa diganti/imumtable\n",
        "S1[S1] =  2\n",
        "print(\"set S1 setelah di ganti elemennya\",S1)"
      ],
      "execution_count": null,
      "outputs": [
        {
          "output_type": "error",
          "ename": "TypeError",
          "evalue": "ignored",
          "traceback": [
            "\u001b[0;31m---------------------------------------------------------------------------\u001b[0m",
            "\u001b[0;31mTypeError\u001b[0m                                 Traceback (most recent call last)",
            "\u001b[0;32m<ipython-input-5-ca4f9b4ded6f>\u001b[0m in \u001b[0;36m<module>\u001b[0;34m()\u001b[0m\n\u001b[1;32m      1\u001b[0m \u001b[0;31m#tidak  bisa diganti/imumtable\u001b[0m\u001b[0;34m\u001b[0m\u001b[0;34m\u001b[0m\u001b[0;34m\u001b[0m\u001b[0m\n\u001b[0;32m----> 2\u001b[0;31m \u001b[0mS1\u001b[0m\u001b[0;34m[\u001b[0m\u001b[0mS1\u001b[0m\u001b[0;34m]\u001b[0m \u001b[0;34m=\u001b[0m  \u001b[0;36m2\u001b[0m\u001b[0;34m\u001b[0m\u001b[0;34m\u001b[0m\u001b[0m\n\u001b[0m\u001b[1;32m      3\u001b[0m \u001b[0mprint\u001b[0m\u001b[0;34m(\u001b[0m\u001b[0;34m\"set S1 setelah di ganti elemennya\"\u001b[0m\u001b[0;34m,\u001b[0m\u001b[0mS1\u001b[0m\u001b[0;34m)\u001b[0m\u001b[0;34m\u001b[0m\u001b[0;34m\u001b[0m\u001b[0m\n",
            "\u001b[0;31mTypeError\u001b[0m: 'set' object does not support item assignment"
          ]
        }
      ]
    },
    {
      "cell_type": "code",
      "metadata": {
        "colab": {
          "base_uri": "https://localhost:8080/",
          "height": 201
        },
        "id": "vDhAq72xMOA6",
        "outputId": "2a584e29-cc2d-446b-befb-b7765163fc3f"
      },
      "source": [
        "S1={1, \"dua\", True, 2+3j}\n",
        "\n",
        "#Dapat Diindikasikan/Slicing\n",
        "print(\"slicing Set S1\", S1[3])"
      ],
      "execution_count": null,
      "outputs": [
        {
          "output_type": "error",
          "ename": "TypeError",
          "evalue": "ignored",
          "traceback": [
            "\u001b[0;31m---------------------------------------------------------------------------\u001b[0m",
            "\u001b[0;31mTypeError\u001b[0m                                 Traceback (most recent call last)",
            "\u001b[0;32m<ipython-input-6-4a9d008789e2>\u001b[0m in \u001b[0;36m<module>\u001b[0;34m()\u001b[0m\n\u001b[1;32m      2\u001b[0m \u001b[0;34m\u001b[0m\u001b[0m\n\u001b[1;32m      3\u001b[0m \u001b[0;31m#Dapat Diindikasikan/Slicing\u001b[0m\u001b[0;34m\u001b[0m\u001b[0;34m\u001b[0m\u001b[0;34m\u001b[0m\u001b[0m\n\u001b[0;32m----> 4\u001b[0;31m \u001b[0mprint\u001b[0m\u001b[0;34m(\u001b[0m\u001b[0;34m\"slicing Set S1\"\u001b[0m\u001b[0;34m,\u001b[0m \u001b[0mS1\u001b[0m\u001b[0;34m[\u001b[0m\u001b[0;36m3\u001b[0m\u001b[0;34m]\u001b[0m\u001b[0;34m)\u001b[0m\u001b[0;34m\u001b[0m\u001b[0;34m\u001b[0m\u001b[0m\n\u001b[0m",
            "\u001b[0;31mTypeError\u001b[0m: 'set' object is not subscriptable"
          ]
        }
      ]
    },
    {
      "cell_type": "code",
      "metadata": {
        "colab": {
          "base_uri": "https://localhost:8080/"
        },
        "id": "RFdMbDwUMoZg",
        "outputId": "166c7ec3-cb78-409e-fd52-4c0474610d62"
      },
      "source": [
        "#dapat di izinkan duplikasi\n",
        "S1 = {1, \"dua\", True, True, 2+3j, 2+3j} #boolean tidak diterbaca atau dianggap tidak ada\n",
        "print(\"Duplikasi Pada Set S1:\", S1)"
      ],
      "execution_count": 4,
      "outputs": [
        {
          "output_type": "stream",
          "name": "stdout",
          "text": [
            "Duplikasi Pada Set S1: {1, (2+3j), 'dua'}\n"
          ]
        }
      ]
    },
    {
      "cell_type": "code",
      "metadata": {
        "id": "wiekrUImNMET",
        "colab": {
          "base_uri": "https://localhost:8080/"
        },
        "outputId": "1fcef839-5f6e-4d26-9faf-e3125d80304a"
      },
      "source": [
        "#buatlah Struktur data setmu Sendiri\n",
        "S2 = {10,\"dua puluh\", True, True, 5+10j, 5+10j}\n",
        "print(\"Duplikasi pada data set S1:\", S2)\n"
      ],
      "execution_count": 3,
      "outputs": [
        {
          "output_type": "stream",
          "name": "stdout",
          "text": [
            "Duplikasi pada data set S1: {True, 10, (5+10j), 'dua puluh'}\n"
          ]
        }
      ]
    },
    {
      "cell_type": "markdown",
      "metadata": {
        "id": "skF0tDWPpCPm"
      },
      "source": [
        "# Dictionary"
      ]
    },
    {
      "cell_type": "markdown",
      "metadata": {
        "id": "VMDYSfecpN_J"
      },
      "source": [
        "Dictionary pada python adalah kumpulan pasangan kunci nilai (pair of key-value) yang bersifat tidak berurutan. dictionary dapat di gunakan untuk menyimpan data kecil hingga besar. Untuk mengakses datarya, kita harus mengetahui kuncinya (key). Pada Python, dictionary didefinisikan dengan kurawal dan tambahan definisi berikut:\n",
        "\n",
        "*   etiap elemen pair key-value dipisahkan dengan koma (,).\n",
        "*   Key dan Value dipisahkan dengan titik dua ().\n",
        "\n",
        "*   Key dan Value dapat berupa tipe variabel/obyek apapun.\n",
        "\n",
        "\n",
        "\n"
      ]
    },
    {
      "cell_type": "code",
      "metadata": {
        "id": "_JNoMe38qpFO"
      },
      "source": [
        "L1 = [1, 'dua', True, (2+3j), (2+3j)]"
      ],
      "execution_count": 24,
      "outputs": []
    },
    {
      "cell_type": "code",
      "metadata": {
        "colab": {
          "base_uri": "https://localhost:8080/"
        },
        "id": "44EONIv-u85L",
        "outputId": "2f087d9d-4b17-448c-f4af-cdfae23e2f57"
      },
      "source": [
        "L1"
      ],
      "execution_count": 25,
      "outputs": [
        {
          "output_type": "execute_result",
          "data": {
            "text/plain": [
              "[1, 'dua', True, (2+3j), (2+3j)]"
            ]
          },
          "metadata": {},
          "execution_count": 25
        }
      ]
    },
    {
      "cell_type": "code",
      "metadata": {
        "colab": {
          "base_uri": "https://localhost:8080/"
        },
        "id": "6XuqdRrkrvjn",
        "outputId": "b17a0844-571c-4a41-877b-3ca20bc41725"
      },
      "source": [
        "#Contoh Dictionary\n",
        "D1 = {1: 'value', 'key':2}\n",
        "\n",
        "print(D1)"
      ],
      "execution_count": 26,
      "outputs": [
        {
          "output_type": "stream",
          "name": "stdout",
          "text": [
            "{1: 'value', 'key': 2}\n"
          ]
        }
      ]
    },
    {
      "cell_type": "code",
      "metadata": {
        "colab": {
          "base_uri": "https://localhost:8080/"
        },
        "id": "7zNMFbxHvxck",
        "outputId": "feb1eb7f-8c56-4d37-b61e-ffe521eae8f3"
      },
      "source": [
        "L1[0]"
      ],
      "execution_count": 27,
      "outputs": [
        {
          "output_type": "execute_result",
          "data": {
            "text/plain": [
              "1"
            ]
          },
          "metadata": {},
          "execution_count": 27
        }
      ]
    },
    {
      "cell_type": "code",
      "metadata": {
        "colab": {
          "base_uri": "https://localhost:8080/"
        },
        "id": "HmWhXi72wZTp",
        "outputId": "3c067bbd-f032-49a8-cb25-3a54cb9542db"
      },
      "source": [
        "D1['key']"
      ],
      "execution_count": 28,
      "outputs": [
        {
          "output_type": "execute_result",
          "data": {
            "text/plain": [
              "2"
            ]
          },
          "metadata": {},
          "execution_count": 28
        }
      ]
    },
    {
      "cell_type": "markdown",
      "metadata": {
        "id": "I844CzI4r3_e"
      },
      "source": [
        "Lathian 1"
      ]
    },
    {
      "cell_type": "code",
      "metadata": {
        "id": "ORRvcti2r7Fg"
      },
      "source": [
        "#buatlah latihan data dictionnary mu sendiri\n",
        "Q1 = [10,\"dua puluh\", True, True, 5+10j, 5+10j]\n"
      ],
      "execution_count": 31,
      "outputs": []
    },
    {
      "cell_type": "code",
      "metadata": {
        "colab": {
          "base_uri": "https://localhost:8080/"
        },
        "id": "5p8MSYUcw9gk",
        "outputId": "3987c25a-09e3-4faf-d84d-1e7ebe8000aa"
      },
      "source": [
        "Q1"
      ],
      "execution_count": 32,
      "outputs": [
        {
          "output_type": "execute_result",
          "data": {
            "text/plain": [
              "[10, 'dua puluh', True, True, (5+10j), (5+10j)]"
            ]
          },
          "metadata": {},
          "execution_count": 32
        }
      ]
    },
    {
      "cell_type": "code",
      "metadata": {
        "colab": {
          "base_uri": "https://localhost:8080/"
        },
        "id": "SQX7GrXwxDOv",
        "outputId": "685b66e0-318f-435b-f455-f1344f194e2f"
      },
      "source": [
        "#contoh dictionary\n",
        "W1 = {10:'value', 'key':20}\n",
        "print(W1)"
      ],
      "execution_count": 35,
      "outputs": [
        {
          "output_type": "stream",
          "name": "stdout",
          "text": [
            "{10: 'value', 'key': 20}\n"
          ]
        }
      ]
    },
    {
      "cell_type": "code",
      "metadata": {
        "colab": {
          "base_uri": "https://localhost:8080/"
        },
        "id": "TyvWwukXxbwM",
        "outputId": "5c5cf3fd-168c-42de-e153-be543a46722a"
      },
      "source": [
        "Q1[2]"
      ],
      "execution_count": 38,
      "outputs": [
        {
          "output_type": "execute_result",
          "data": {
            "text/plain": [
              "True"
            ]
          },
          "metadata": {},
          "execution_count": 38
        }
      ]
    },
    {
      "cell_type": "code",
      "metadata": {
        "colab": {
          "base_uri": "https://localhost:8080/",
          "height": 35
        },
        "id": "ATvegYJgxwpO",
        "outputId": "276efd12-2c01-47b9-d41e-8b5a8d4c0ec1"
      },
      "source": [
        "W1[10]"
      ],
      "execution_count": 42,
      "outputs": [
        {
          "output_type": "execute_result",
          "data": {
            "application/vnd.google.colaboratory.intrinsic+json": {
              "type": "string"
            },
            "text/plain": [
              "'value'"
            ]
          },
          "metadata": {},
          "execution_count": 42
        }
      ]
    },
    {
      "cell_type": "code",
      "metadata": {
        "colab": {
          "base_uri": "https://localhost:8080/"
        },
        "id": "_jAf84KpyPPr",
        "outputId": "37753156-9321-4cad-91e8-e3ac2bca425f"
      },
      "source": [
        "#meanggil elemen berdasarkan key\n",
        "print(\"D1['key'] =\", D1['key']);"
      ],
      "execution_count": 44,
      "outputs": [
        {
          "output_type": "stream",
          "name": "stdout",
          "text": [
            "D1['key'] = 2\n"
          ]
        }
      ]
    },
    {
      "cell_type": "code",
      "metadata": {
        "colab": {
          "base_uri": "https://localhost:8080/"
        },
        "id": "iK2DZXnCyxTl",
        "outputId": "00603d97-3198-4084-9538-ff55344b5727"
      },
      "source": [
        "#meanggil elemen berdasarkan key\n",
        "print(\"W1['key'] =\", Q1['key']);"
      ],
      "execution_count": 46,
      "outputs": [
        {
          "output_type": "stream",
          "name": "stdout",
          "text": [
            "W1['key'] = 20\n"
          ]
        }
      ]
    }
  ]
}