{
  "nbformat": 4,
  "nbformat_minor": 0,
  "metadata": {
    "colab": {
      "name": "Anggiboy.ipynb",
      "provenance": [],
      "authorship_tag": "ABX9TyOVJ9a6gnlZHkerk7HDvlO9",
      "include_colab_link": true
    },
    "kernelspec": {
      "name": "python3",
      "display_name": "Python 3"
    },
    "language_info": {
      "name": "python"
    }
  },
  "cells": [
    {
      "cell_type": "markdown",
      "metadata": {
        "id": "view-in-github",
        "colab_type": "text"
      },
      "source": [
        "<a href=\"https://colab.research.google.com/github/Anggiboy/Pejuang_Data3/blob/main/Anggiboy.ipynb\" target=\"_parent\"><img src=\"https://colab.research.google.com/assets/colab-badge.svg\" alt=\"Open In Colab\"/></a>"
      ]
    },
    {
      "cell_type": "markdown",
      "metadata": {
        "id": "DODFiS9N2V6W"
      },
      "source": [
        "Struktur program pada python:\n",
        "\n",
        "Python pada umumnya terdiri dari:\n",
        "1. Statment\n"
      ]
    },
    {
      "cell_type": "code",
      "metadata": {
        "colab": {
          "base_uri": "https://localhost:8080/"
        },
        "id": "Hn2tPoCy4dLJ",
        "outputId": "62506b4a-c5c2-4b9b-a756-39fb8e8d7ddf"
      },
      "source": [
        "print(\"belajar python menyenangkan\")\n",
        "print(\"halo dunia\")"
      ],
      "execution_count": null,
      "outputs": [
        {
          "output_type": "stream",
          "name": "stdout",
          "text": [
            "belajar python menyenangkan\n",
            "halo dunia\n"
          ]
        }
      ]
    },
    {
      "cell_type": "markdown",
      "metadata": {
        "id": "YJeQGN0J4ymA"
      },
      "source": [
        "2. Variables"
      ]
    },
    {
      "cell_type": "code",
      "metadata": {
        "id": "Fl-dHmgp4xlY"
      },
      "source": [
        "bilangan1 = 5\n",
        "bilangan2 = 10\n",
        "kalimat = \"pejuang data 3\""
      ],
      "execution_count": null,
      "outputs": []
    },
    {
      "cell_type": "markdown",
      "metadata": {
        "id": "fnb_motD5O3x"
      },
      "source": [
        "3. Iterasi: simbol simbol yang dapat kita gunakan untuk mengisi suatu variabel"
      ]
    },
    {
      "cell_type": "markdown",
      "metadata": {
        "id": "_pZ21bG-6HiR"
      },
      "source": [
        ""
      ]
    },
    {
      "cell_type": "markdown",
      "metadata": {
        "id": "UkHCUVyJ5fkG"
      },
      "source": [
        "4. Operator: simbol simbol yang dapat kita gunakan untuk mengubah nilai dari suatu variabel dengan melibatkan satu atau lebih variabel dan iteral.\n"
      ]
    },
    {
      "cell_type": "code",
      "metadata": {
        "colab": {
          "base_uri": "https://localhost:8080/"
        },
        "id": "tOXZTiBR6MNi",
        "outputId": "7e194352-c50e-4970-86c4-111af0507e7a"
      },
      "source": [
        "bilangan1 + bilangan2"
      ],
      "execution_count": null,
      "outputs": [
        {
          "output_type": "execute_result",
          "data": {
            "text/plain": [
              "15"
            ]
          },
          "metadata": {},
          "execution_count": 4
        }
      ]
    },
    {
      "cell_type": "markdown",
      "metadata": {
        "id": "Yp2gADJV6TLT"
      },
      "source": [
        "5. Reserved Words: kumpulan kata kata yang memiliki makna khusus dalam bahasa pemrograman python. kata false, return dan for merupakan cotoh dari reservwd woeds"
      ]
    },
    {
      "cell_type": "markdown",
      "metadata": {
        "id": "_lVO3ehY6pmx"
      },
      "source": [
        "6. Whitespace: pada bahasa python spasi dan tab memiliki makna khusus untuk menandai serangkaian blok dalam kode pyton"
      ]
    },
    {
      "cell_type": "markdown",
      "metadata": {
        "id": "9b0vuWnd7GFh"
      },
      "source": [
        "7. Comment: sekumpulan teks yang di tuliskan didalam sebuah program yang tidak akan mempengaruhi hasil dari sebuah program"
      ]
    },
    {
      "cell_type": "markdown",
      "metadata": {
        "id": "mzYUM8287mit"
      },
      "source": [
        "terdapat dua jenis comment didalam python:\n",
        "a. single line comment(komen dalam satu baris:"
      ]
    },
    {
      "cell_type": "code",
      "metadata": {
        "colab": {
          "base_uri": "https://localhost:8080/"
        },
        "id": "fWJMrMHE795X",
        "outputId": "e2110692-c93b-45f6-9e9c-46e902147e01"
      },
      "source": [
        "#ini adalah sebuah comment\n",
        "print(\"belajar python\")"
      ],
      "execution_count": null,
      "outputs": [
        {
          "output_type": "stream",
          "name": "stdout",
          "text": [
            "belajar python\n"
          ]
        }
      ]
    },
    {
      "cell_type": "code",
      "metadata": {
        "colab": {
          "base_uri": "https://localhost:8080/"
        },
        "id": "GzkvC4y08aI6",
        "outputId": "1a268205-81e3-4041-b82e-a26e2ba1d69d"
      },
      "source": [
        "'''\n",
        "Ini adalah coment panjang \n",
        "Bisa digunakan untuk membrikan penjelasan \n",
        "Panjang pada sell kode python,\n",
        "Misal dokumentasi program, spesifikasi\n",
        "input output atau lainnya\n",
        "'''\n",
        "\n",
        "print('belajar Python menyenangkan')"
      ],
      "execution_count": null,
      "outputs": [
        {
          "output_type": "stream",
          "name": "stdout",
          "text": [
            "belajar Python menyenangkan\n"
          ]
        }
      ]
    }
  ]
}