{
  "nbformat": 4,
  "nbformat_minor": 0,
  "metadata": {
    "colab": {
      "name": "Operator.ipynb",
      "provenance": [],
      "collapsed_sections": [],
      "authorship_tag": "ABX9TyPkH65xmWcua5gm55zkBdbi",
      "include_colab_link": true
    },
    "kernelspec": {
      "name": "python3",
      "display_name": "Python 3"
    },
    "language_info": {
      "name": "python"
    }
  },
  "cells": [
    {
      "cell_type": "markdown",
      "metadata": {
        "id": "view-in-github",
        "colab_type": "text"
      },
      "source": [
        "<a href=\"https://colab.research.google.com/github/Anggiboy/Pejuang_Data3/blob/main/Operator.ipynb\" target=\"_parent\"><img src=\"https://colab.research.google.com/assets/colab-badge.svg\" alt=\"Open In Colab\"/></a>"
      ]
    },
    {
      "cell_type": "markdown",
      "metadata": {
        "id": "wMTUF3x6kX5P"
      },
      "source": [
        "Operator"
      ]
    },
    {
      "cell_type": "markdown",
      "metadata": {
        "id": "4f7XIYVpkdJ2"
      },
      "source": [
        "operator adlah simbol simbol yang di gunakan untuk mengubah nilai dari satu variabel dengan melibatkan satu atau lebih variabel dan iteral. tipe tipe operator:\n",
        "1. operator aritmatika\n",
        "2. operator assigment\n",
        "3. operator pembanding\n",
        "4. operator logika\n",
        "5. operator membership\n"
      ]
    },
    {
      "cell_type": "markdown",
      "metadata": {
        "id": "noA7l4tvlQXv"
      },
      "source": [
        "Operator Aritmatika digunakan untuk melakukan operasi matematika yang umum,\n",
        "macam macam operator aritmatika:\n",
        "+ : penjumlahan \n",
        "- : pengurangan \n",
        "* : perkalian \n",
        "/ : pembagian\n",
        "% : modulus\n",
        "** : perpangkatan \n",
        "// : pemabgian dengan hasil pembulatan flooring"
      ]
    },
    {
      "cell_type": "code",
      "metadata": {
        "colab": {
          "base_uri": "https://localhost:8080/"
        },
        "id": "J5TKBmCZmKEo",
        "outputId": "f9d1c836-b4ce-4202-a47b-d8cb285e1043"
      },
      "source": [
        "# contoh contoh operasi aritmatika\n",
        "\n",
        "#penjumlahan\n",
        "print(\"penjumlahan\")\n",
        "print(\"2+2\")\n",
        "#pengurangan\n",
        "print(\"-\"*20)\n",
        "print(\"pengurangan\")\n",
        "print(2-3)\n",
        "#perkalian\n",
        "print(\"-\"*20)\n",
        "print(\"perkalian\")\n",
        "print(\"2*3\")\n",
        "#pembagian\n",
        "print(\"-\"*20)\n",
        "print(\"pembagian\")\n",
        "print(2/3)\n",
        "#perpangkatan\n",
        "print(\"-\"*20)\n",
        "print(\"perpangkatan\")\n",
        "print(2**3)\n",
        "#modulus\n",
        "print(\"-\"*20)\n",
        "print(\"modulus\")\n",
        "print(2%3)\n",
        "#pembagian pembulatan flooring\n",
        "print(\"-\"*20)\n",
        "print(\"pembulatan pembagian flooring\")\n",
        "print(2//3)"
      ],
      "execution_count": null,
      "outputs": [
        {
          "output_type": "stream",
          "name": "stdout",
          "text": [
            "penjumlahan\n",
            "2+2\n",
            "--------------------\n",
            "pengurangan\n",
            "-1\n",
            "--------------------\n",
            "perkalian\n",
            "2*3\n",
            "--------------------\n",
            "pembagian\n",
            "0.6666666666666666\n",
            "--------------------\n",
            "perpangkatan\n",
            "8\n",
            "--------------------\n",
            "modulus\n",
            "2\n",
            "--------------------\n",
            "pembulatan pembagian flooring\n",
            "0\n"
          ]
        }
      ]
    },
    {
      "cell_type": "code",
      "metadata": {
        "id": "i_VFN9x0nFkY"
      },
      "source": [
        "#buatlah program penerapan operator aritatika \n",
        "# dengan nilai yang berbeda dari contoh di atas"
      ],
      "execution_count": null,
      "outputs": []
    },
    {
      "cell_type": "code",
      "metadata": {
        "colab": {
          "base_uri": "https://localhost:8080/"
        },
        "id": "hshcRSFzqZ83",
        "outputId": "0dc22de1-25e3-47a7-a088-baf865d565d7"
      },
      "source": [
        "print(\"penjumlahan\")\n",
        "print(100+50)\n",
        "print(\"-\"*20)\n",
        "print(\"pengurangan\")\n",
        "print(100-50)\n",
        "print(\"-\"*20)\n",
        "print(\"perkalian\")\n",
        "print(100*50)\n",
        "print(\"-\"*20)\n",
        "print(\"pembagian\")\n",
        "print(100/50)\n",
        "print(\"-\"*20)\n",
        "print(\"modulus\")\n",
        "print(7%5)\n",
        "print(\"-\"*20)\n",
        "print(\"pembulatan pembagian flooring\")\n",
        "print(100//50)"
      ],
      "execution_count": null,
      "outputs": [
        {
          "output_type": "stream",
          "name": "stdout",
          "text": [
            "penjumlahan\n",
            "150\n",
            "--------------------\n",
            "pengurangan\n",
            "50\n",
            "--------------------\n",
            "perkalian\n",
            "5000\n",
            "--------------------\n",
            "pembagian\n",
            "2.0\n",
            "--------------------\n",
            "modulus\n",
            "2\n",
            "--------------------\n",
            "pembulatan pembagian flooring\n",
            "2\n"
          ]
        }
      ]
    },
    {
      "cell_type": "markdown",
      "metadata": {
        "id": "qUtPzaokDZBb"
      },
      "source": [
        "Operator Assigment digunakan untuk menyimpan nilai suatu variabel\n",
        "\n",
        "=  : contohnya x = 5 -> x = 5\n",
        "\n",
        "+= : contohnya x = x + 5 -> x += 5\n",
        "\n",
        "-= : contohnya x = x - 5 -> x -= 5\n",
        "\n",
        "*= : contohnya x = x * 5 -> x *= 5\n",
        "\n",
        "/= : contohnya x = x / 5 -> x /= 5\n",
        "\n",
        "%= : contohnya x = x % 5 -> x %= 5\n",
        "\n",
        "// : contohnya x = x // 5  -> x //= 5\n",
        "\n",
        "** : contohnya x = x ** 5 -> x **= 5"
      ]
    },
    {
      "cell_type": "code",
      "metadata": {
        "colab": {
          "base_uri": "https://localhost:8080/"
        },
        "id": "1-KjkmHOGMnP",
        "outputId": "6429d623-effd-41e9-9621-fe7ca3873422"
      },
      "source": [
        "# contoh penggunaan operator assigment\n",
        "\n",
        "# penjumlahan\n",
        "print(\"penjumlahan\")\n",
        "x=5\n",
        "x=x+5\n",
        "print(x)\n",
        "x=5\n",
        "x+=3\n",
        "print(x)\n",
        "print('-'*20)\n",
        "\n",
        "#pengurangan\n",
        "print('pengurangan')\n",
        "x=5\n",
        "x=x-5\n",
        "print(x)\n",
        "x=5\n",
        "x-=3\n",
        "print(x)\n",
        "print('-'*20)\n",
        "\n",
        "#perkalian\n",
        "print('perkalian')\n",
        "x=5\n",
        "x=x*5\n",
        "print(x)\n",
        "x=5\n",
        "x*=3\n",
        "print(x)\n",
        "print('-'*20)\n",
        "\n",
        "#pembagian\n",
        "print('pembagian')\n",
        "x=5\n",
        "x=x/5\n",
        "print(x)\n",
        "x=5\n",
        "x/=3\n",
        "print(x)\n",
        "print('-'*20)\n",
        "\n",
        "#modulus \n",
        "print('modulus')\n",
        "x=5\n",
        "x=x%5\n",
        "print(x)\n",
        "x=5\n",
        "x%=3\n",
        "print(x)\n",
        "print('-'*20)\n",
        "\n",
        "#pembagian flooring\n",
        "print('pembagian flooring')\n",
        "x=5\n",
        "x=x//5\n",
        "print(x)\n",
        "x=5\n",
        "x//=3\n",
        "print(x)\n",
        "print('-'*20)\n",
        "\n",
        "#perpangkatan\n",
        "print('perpangkatan')\n",
        "x=5\n",
        "x=x**5\n",
        "print(x)\n",
        "x=5\n",
        "x**=3\n",
        "print(x)\n",
        "print('-'*20)"
      ],
      "execution_count": null,
      "outputs": [
        {
          "output_type": "stream",
          "name": "stdout",
          "text": [
            "penjumlahan\n",
            "10\n",
            "8\n",
            "--------------------\n",
            "pengurangan\n",
            "0\n",
            "2\n",
            "--------------------\n",
            "perkalian\n",
            "25\n",
            "15\n",
            "--------------------\n",
            "pembagian\n",
            "1.0\n",
            "1.6666666666666667\n",
            "--------------------\n",
            "modulus\n",
            "0\n",
            "2\n",
            "--------------------\n",
            "pembagian flooring\n",
            "1\n",
            "1\n",
            "--------------------\n",
            "perpangkatan\n",
            "3125\n",
            "125\n",
            "--------------------\n"
          ]
        }
      ]
    },
    {
      "cell_type": "markdown",
      "metadata": {
        "id": "JVtkE8lnHwz8"
      },
      "source": [
        "Latihan 2"
      ]
    },
    {
      "cell_type": "code",
      "metadata": {
        "colab": {
          "base_uri": "https://localhost:8080/"
        },
        "id": "Vbqrql05Ht6n",
        "outputId": "92d3e003-7e3d-416b-ec2f-8b9ea905b26c"
      },
      "source": [
        "# buatlah program penerapan operator assigment\n",
        "# dengan nilai nilai yang berbeda dari contoh di atas\n",
        "\n",
        "#penjumlahan\n",
        "print('penjumlahan')\n",
        "x=100\n",
        "x=x+100\n",
        "print(x)\n",
        "x=100\n",
        "x+=70\n",
        "print(x)\n",
        "print('-'*20)\n",
        "\n",
        "#pengurangan\n",
        "print('pengurangan')\n",
        "x=100\n",
        "x=x-100\n",
        "print(x)\n",
        "x=100\n",
        "x-=70\n",
        "print(x)\n",
        "print('-'*20)\n",
        "\n",
        "#Perkalian\n",
        "print('perkalian')\n",
        "x=100\n",
        "x=x*100\n",
        "print(x)\n",
        "x=100\n",
        "x*=70\n",
        "print(x)\n",
        "print('-'*20)\n",
        "\n",
        "#pembagian\n",
        "print('pembagian')\n",
        "x=100\n",
        "x=x/100\n",
        "print(x)\n",
        "x=100\n",
        "x/=70\n",
        "print(x)\n",
        "print('-'*20)\n",
        "\n",
        "#modulus\n",
        "print('modulus')\n",
        "x=100\n",
        "x=x%100\n",
        "print(x)\n",
        "x=100\n",
        "x%=70\n",
        "print(x)\n",
        "print('-'*20)\n",
        "\n",
        "#pembagian flooring\n",
        "print('pembagian flooring')\n",
        "x=100\n",
        "x=x//100\n",
        "print(x)\n",
        "x=100\n",
        "x//=70\n",
        "print(x)\n",
        "print('-'*20)\n",
        "\n",
        "#perpangkatan\n",
        "print('perpangkatan')\n",
        "x=100\n",
        "x=x**100\n",
        "print(x)\n",
        "x=100\n",
        "x**=70\n",
        "print(x)\n",
        "print('-'*20)"
      ],
      "execution_count": null,
      "outputs": [
        {
          "output_type": "stream",
          "name": "stdout",
          "text": [
            "penjumlahan\n",
            "200\n",
            "170\n",
            "--------------------\n",
            "pengurangan\n",
            "0\n",
            "30\n",
            "--------------------\n",
            "perkalian\n",
            "10000\n",
            "7000\n",
            "--------------------\n",
            "pembagian\n",
            "1.0\n",
            "1.4285714285714286\n",
            "--------------------\n",
            "modulus\n",
            "0\n",
            "30\n",
            "--------------------\n",
            "pembagian flooring\n",
            "1\n",
            "1\n",
            "--------------------\n",
            "perpangkatan\n",
            "100000000000000000000000000000000000000000000000000000000000000000000000000000000000000000000000000000000000000000000000000000000000000000000000000000000000000000000000000000000000000000000000000000000\n",
            "100000000000000000000000000000000000000000000000000000000000000000000000000000000000000000000000000000000000000000000000000000000000000000000\n",
            "--------------------\n"
          ]
        }
      ]
    },
    {
      "cell_type": "markdown",
      "metadata": {
        "id": "l-ElNychMPmo"
      },
      "source": [
        "Opertor Pembanding"
      ]
    },
    {
      "cell_type": "markdown",
      "metadata": {
        "id": "NaQPSLowMVpi"
      },
      "source": [
        "operator pembandin digunkan untuk membandingkan dua nilai atau variabel\n",
        "macam maca operator pembanding:"
      ]
    },
    {
      "cell_type": "markdown",
      "metadata": {
        "id": "B4tU3Iac1AQA"
      },
      "source": [
        "== -> samadengan\n",
        "\n",
        "!= -> tidak samadengan\n",
        "\n",
        " >  -> lebih dari\n",
        "\n",
        "<  -> kurang dari\n",
        "\n",
        ">= -> lebih dari dan sama dengan\n",
        "\n",
        "<= -> kurang dari dan sama dengan"
      ]
    },
    {
      "cell_type": "code",
      "metadata": {
        "colab": {
          "base_uri": "https://localhost:8080/"
        },
        "id": "mhHyKHfl19Q3",
        "outputId": "a446b74a-87f4-4b95-9009-789fe4222faf"
      },
      "source": [
        "# contoh penggunaan operator pembanding\n",
        "\n",
        "print(2==2)\n",
        "print(2!=2)\n",
        "print(2>2)\n",
        "print(2<2)\n",
        "print(2>=2)\n",
        "print(2<=2)"
      ],
      "execution_count": null,
      "outputs": [
        {
          "output_type": "stream",
          "name": "stdout",
          "text": [
            "True\n",
            "False\n",
            "False\n",
            "False\n",
            "True\n",
            "True\n"
          ]
        }
      ]
    },
    {
      "cell_type": "markdown",
      "metadata": {
        "id": "wYer4aOB31fn"
      },
      "source": [
        "Latihan Operator 3"
      ]
    },
    {
      "cell_type": "code",
      "metadata": {
        "colab": {
          "base_uri": "https://localhost:8080/"
        },
        "id": "uImTgG1R38jb",
        "outputId": "337a4ad1-72b9-45ee-8095-a7948ee2dd69"
      },
      "source": [
        "# Buatlah penerapan operator pembanding\n",
        "# dengan nilai nilai yang berbeda dari contoh di atas\n",
        "\n",
        "print(100==50)\n",
        "print(100!=50)\n",
        "print(100>50)\n",
        "print(100<50)\n",
        "print(100>=50)\n",
        "print(100<=50)"
      ],
      "execution_count": null,
      "outputs": [
        {
          "output_type": "stream",
          "name": "stdout",
          "text": [
            "False\n",
            "True\n",
            "True\n",
            "False\n",
            "True\n",
            "False\n"
          ]
        }
      ]
    },
    {
      "cell_type": "markdown",
      "metadata": {
        "id": "mhi_VDmy4ikl"
      },
      "source": [
        "Operator Logika\n",
        "Operator logika digunakan untuk mengkombinasikan statment statment kondisional macam macam operator logika:"
      ]
    },
    {
      "cell_type": "code",
      "metadata": {
        "id": "P7X1KuBi47CG"
      },
      "source": [
        "and -> kondisi menjadi bentar apabila semua statmentnya benar\n",
        "or -> kondisi menjadi  benar apaila salah satu statmennya ada yang benar\n",
        "not -> membalik hasil dari benar ke salah dan salah ke benar"
      ],
      "execution_count": null,
      "outputs": []
    },
    {
      "cell_type": "code",
      "metadata": {
        "colab": {
          "base_uri": "https://localhost:8080/"
        },
        "id": "v0fn-EI65c2r",
        "outputId": "b728f35d-bc40-4d36-bc4b-c984a65b1b89"
      },
      "source": [
        "# Contoh penggunaan operator logika\n",
        "\n",
        "print(True and False)\n",
        "print(False or False)\n",
        "print(not False and not True)"
      ],
      "execution_count": null,
      "outputs": [
        {
          "output_type": "stream",
          "name": "stdout",
          "text": [
            "False\n",
            "False\n",
            "False\n"
          ]
        }
      ]
    },
    {
      "cell_type": "code",
      "metadata": {
        "colab": {
          "base_uri": "https://localhost:8080/"
        },
        "id": "3cjOvol76U_8",
        "outputId": "a6f237dc-f622-47ca-add8-c546d7b341e4"
      },
      "source": [
        "# Buatlah program penerapan operator logika\n",
        "# dengan nilai nilai yang berbeda dari contoh di atas\n",
        "\n",
        "print(True and False)\n",
        "print(True or False)\n",
        "print(not False and not True)"
      ],
      "execution_count": null,
      "outputs": [
        {
          "output_type": "stream",
          "name": "stdout",
          "text": [
            "False\n",
            "True\n",
            "False\n"
          ]
        }
      ]
    },
    {
      "cell_type": "markdown",
      "metadata": {
        "id": "uJNNs_pF6uJK"
      },
      "source": [
        "Operator Keanggotaan\n",
        "operator keanggotaan digunakan untuk menguji apakah urutan disajikan dalam suatu objek macam macam operator keanggotaan:\n"
      ]
    },
    {
      "cell_type": "code",
      "metadata": {
        "id": "V9xnU4Lk6_vQ"
      },
      "source": [
        "in     -> return true ketika nilai tertentu dalam sebuah urutan ada\n",
        "not in -> return true ketika nilai tertentu dalam sebuah urutan tidak ada"
      ],
      "execution_count": null,
      "outputs": []
    },
    {
      "cell_type": "code",
      "metadata": {
        "colab": {
          "base_uri": "https://localhost:8080/"
        },
        "id": "L3UDm4wk7WyQ",
        "outputId": "89b3cb49-f19b-49cd-b52f-415058a768b3"
      },
      "source": [
        "# Contoh penggunaan operator keanggotaan\n",
        "\n",
        "a=(1,2,3,4,5,6)\n",
        "b=2\n",
        "\n",
        "print(b in a)\n",
        "\n",
        "print('-'*20)\n",
        "a=(1,2,3,4,5,6)\n",
        "b=7\n",
        "print(b not in a)"
      ],
      "execution_count": null,
      "outputs": [
        {
          "output_type": "stream",
          "name": "stdout",
          "text": [
            "True\n",
            "--------------------\n",
            "True\n"
          ]
        }
      ]
    },
    {
      "cell_type": "code",
      "metadata": {
        "colab": {
          "base_uri": "https://localhost:8080/"
        },
        "id": "HhFhwkkD7xBl",
        "outputId": "5ad85977-6f42-48c9-92aa-d5983555c9b9"
      },
      "source": [
        "# Buatlah program penerapan operator keanggotaan/membership\n",
        "# dengan nilai nilai yang berbeda dari contoh di atas\n",
        "\n",
        "a=(23,24,25,262,7,28)\n",
        "b=25\n",
        "\n",
        "print(b in a)\n",
        "\n",
        "print('-'*20)\n",
        "a=(23,24,25,26,27,28)\n",
        "b=27\n",
        "print(b not in a)"
      ],
      "execution_count": null,
      "outputs": [
        {
          "output_type": "stream",
          "name": "stdout",
          "text": [
            "True\n",
            "--------------------\n",
            "False\n"
          ]
        }
      ]
    }
  ]
}